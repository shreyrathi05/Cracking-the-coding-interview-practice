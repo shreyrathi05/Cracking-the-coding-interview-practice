{
 "cells": [
  {
   "cell_type": "code",
   "execution_count": 6,
   "metadata": {},
   "outputs": [],
   "source": [
    "unique= \"AbcdEFGH\"\n",
    "non_unique=\"This is a non unique number\""
   ]
  },
  {
   "cell_type": "code",
   "execution_count": 8,
   "metadata": {},
   "outputs": [
    {
     "name": "stdout",
     "output_type": "stream",
     "text": [
      "abcdefgh\n",
      "thisisanonuniquenumber\n",
      "True\n",
      "False\n"
     ]
    }
   ],
   "source": [
    "def normalize(input_str):\n",
    "    input_str=input_str.replace(\" \",\"\")\n",
    "    return input_str.lower()\n",
    "\n",
    "def is_unique(input_str):\n",
    "    d=dict()\n",
    "    for i in input_str:\n",
    "        if i in d:\n",
    "            return False\n",
    "        else:\n",
    "            d[i]=1\n",
    "    return True\n",
    "        \n",
    "    \n",
    "unique=normalize(unique)\n",
    "non_unique=normalize(non_unique)\n",
    "\n",
    "print(unique)\n",
    "print(non_unique)\n",
    "\n",
    "print(is_unique(unique))\n",
    "print(is_unique(non_unique))"
   ]
  }
 ],
 "metadata": {
  "kernelspec": {
   "display_name": "Python 3",
   "language": "python",
   "name": "python3"
  },
  "language_info": {
   "codemirror_mode": {
    "name": "ipython",
    "version": 3
   },
   "file_extension": ".py",
   "mimetype": "text/x-python",
   "name": "python",
   "nbconvert_exporter": "python",
   "pygments_lexer": "ipython3",
   "version": "3.7.4"
  }
 },
 "nbformat": 4,
 "nbformat_minor": 2
}
