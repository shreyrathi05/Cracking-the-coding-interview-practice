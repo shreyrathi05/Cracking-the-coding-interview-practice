{
 "cells": [
  {
   "cell_type": "code",
   "execution_count": 2,
   "metadata": {},
   "outputs": [
    {
     "name": "stdout",
     "output_type": "stream",
     "text": [
      "[1, 2]\n",
      "2\n"
     ]
    }
   ],
   "source": [
    "class stack():\n",
    "    \n",
    "    \n",
    "    def __init__(self):\n",
    "        self.items=[]\n",
    "        \n",
    "    def push(self,items):\n",
    "        self.items.append(items)\n",
    "        \n",
    "    def pop(self,items):\n",
    "        self.items.pop()\n",
    "        \n",
    "    def is_empty(self):\n",
    "        if self.peek==[]:\n",
    "            return True\n",
    "    \n",
    "    def peek(self):\n",
    "        if not self.is_empty():\n",
    "            print(self.items[-1])\n",
    "        \n",
    "    def show_stack(self):\n",
    "        return self.items\n",
    "    \n",
    "s= stack()\n",
    "s.push(1)\n",
    "s.push(2)\n",
    "print(s.show_stack())\n",
    "s.peek()"
   ]
  }
 ],
 "metadata": {
  "kernelspec": {
   "display_name": "Python 3",
   "language": "python",
   "name": "python3"
  },
  "language_info": {
   "codemirror_mode": {
    "name": "ipython",
    "version": 3
   },
   "file_extension": ".py",
   "mimetype": "text/x-python",
   "name": "python",
   "nbconvert_exporter": "python",
   "pygments_lexer": "ipython3",
   "version": "3.7.4"
  }
 },
 "nbformat": 4,
 "nbformat_minor": 2
}
